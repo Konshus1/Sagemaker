{
 "cells": [
  {
   "cell_type": "code",
   "execution_count": 2,
   "metadata": {},
   "outputs": [
    {
     "name": "stdout",
     "output_type": "stream",
     "text": [
      "TensorFlow version: 2.1.3\n",
      "Downloading data from https://storage.googleapis.com/tensorflow/tf-keras-datasets/mnist.npz\n",
      "11493376/11490434 [==============================] - 0s 0us/step\n",
      "WARNING:tensorflow:Layer flatten is casting an input tensor from dtype float64 to the layer's dtype of float32, which is new behavior in TensorFlow 2.  The layer has dtype float32 because it's dtype defaults to floatx.\n",
      "\n",
      "If you intended to run this layer in float32, you can safely ignore this warning. If in doubt, this warning is likely only an issue if you are porting a TensorFlow 1.X model to TensorFlow 2.\n",
      "\n",
      "To change all layers to have dtype float64 by default, call `tf.keras.backend.set_floatx('float64')`. To change just this layer, pass dtype='float64' to the layer constructor. If you are the author of this layer, you can disable autocasting by passing autocast=False to the base Layer constructor.\n",
      "\n",
      "Train on 60000 samples\n",
      "Epoch 1/5\n",
      "60000/60000 [==============================] - 7s 116us/sample - loss: 0.2925 - accuracy: 0.9165\n",
      "Epoch 2/5\n",
      "60000/60000 [==============================] - 7s 112us/sample - loss: 0.1402 - accuracy: 0.9586\n",
      "Epoch 3/5\n",
      "60000/60000 [==============================] - 7s 113us/sample - loss: 0.1047 - accuracy: 0.9680\n",
      "Epoch 4/5\n",
      "60000/60000 [==============================] - 7s 120us/sample - loss: 0.0868 - accuracy: 0.9731\n",
      "Epoch 5/5\n",
      "60000/60000 [==============================] - 7s 111us/sample - loss: 0.0710 - accuracy: 0.9775\n",
      "10000/10000 - 1s - loss: 0.0782 - accuracy: 0.9768\n"
     ]
    },
    {
     "data": {
      "text/plain": [
       "<tf.Tensor: shape=(5, 10), dtype=float32, numpy=\n",
       "array([[7.39303090e-08, 2.03417176e-08, 3.67381426e-06, 2.77307699e-04,\n",
       "        2.84668279e-11, 8.87976341e-08, 3.23916523e-12, 9.99715984e-01,\n",
       "        6.66368578e-07, 2.25247118e-06],\n",
       "       [4.33403102e-07, 9.45763713e-06, 9.99988914e-01, 4.72867868e-07,\n",
       "        5.20395460e-14, 1.61233856e-07, 1.00176214e-08, 1.51403060e-13,\n",
       "        4.97312953e-07, 1.40137955e-13],\n",
       "       [4.27299426e-07, 9.99513865e-01, 1.44081729e-04, 3.65979486e-06,\n",
       "        5.39863031e-05, 8.57574742e-06, 1.09845432e-05, 1.37641706e-04,\n",
       "        1.26336148e-04, 4.23073857e-07],\n",
       "       [9.99960780e-01, 1.15059855e-08, 3.00194260e-05, 1.56949032e-08,\n",
       "        8.69902124e-08, 4.31929436e-07, 9.58818418e-07, 7.19608533e-06,\n",
       "        1.24398225e-08, 4.32702052e-07],\n",
       "       [7.38151130e-07, 7.66379848e-10, 2.99760291e-06, 6.40821840e-10,\n",
       "        9.99651432e-01, 2.02312140e-08, 5.53523876e-07, 6.92458343e-06,\n",
       "        5.28736308e-08, 3.37306905e-04]], dtype=float32)>"
      ]
     },
     "execution_count": 2,
     "metadata": {},
     "output_type": "execute_result"
    }
   ],
   "source": [
    "import tensorflow as tf\n",
    "print(\"TensorFlow version:\", tf.__version__)\n",
    "mnist = tf.keras.datasets.mnist\n",
    "\n",
    "(x_train, y_train), (x_test, y_test) = mnist.load_data()\n",
    "x_train, x_test = x_train / 255.0, x_test / 255.0\n",
    "model = tf.keras.models.Sequential([\n",
    "  tf.keras.layers.Flatten(input_shape=(28, 28)),\n",
    "  tf.keras.layers.Dense(128, activation='relu'),\n",
    "  tf.keras.layers.Dropout(0.2),\n",
    "  tf.keras.layers.Dense(10)\n",
    "])\n",
    "predictions = model(x_train[:1]).numpy()\n",
    "predictions\n",
    "tf.nn.softmax(predictions).numpy()\n",
    "loss_fn = tf.keras.losses.SparseCategoricalCrossentropy(from_logits=True)\n",
    "loss_fn(y_train[:1], predictions).numpy()\n",
    "model.compile(optimizer='adam',\n",
    "              loss=loss_fn,\n",
    "              metrics=['accuracy'])\n",
    "model.fit(x_train, y_train, epochs=5)\n",
    "model.evaluate(x_test,  y_test, verbose=2)\n",
    "probability_model = tf.keras.Sequential([\n",
    "  model,\n",
    "  tf.keras.layers.Softmax()\n",
    "])\n",
    "probability_model(x_test[:5])"
   ]
  },
  {
   "cell_type": "code",
   "execution_count": null,
   "metadata": {},
   "outputs": [],
   "source": []
  }
 ],
 "metadata": {
  "instance_type": "ml.t3.medium",
  "kernelspec": {
   "display_name": "Python 3 (TensorFlow 2.1 Python 3.6 CPU Optimized)",
   "language": "python",
   "name": "python3__SAGEMAKER_INTERNAL__arn:aws:sagemaker:us-east-1:081325390199:image/tensorflow-2.1-cpu-py36"
  },
  "language_info": {
   "codemirror_mode": {
    "name": "ipython",
    "version": 3
   },
   "file_extension": ".py",
   "mimetype": "text/x-python",
   "name": "python",
   "nbconvert_exporter": "python",
   "pygments_lexer": "ipython3",
   "version": "3.6.13"
  }
 },
 "nbformat": 4,
 "nbformat_minor": 4
}
